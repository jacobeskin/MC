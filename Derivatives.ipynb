{
 "cells": [
  {
   "cell_type": "markdown",
   "metadata": {},
   "source": [
    "# A study in option pricing with Monte Carlo simulation\n",
    "\n",
    "## Introduction\n",
    "\n",
    "This project takes a look at how option pricing with Monte Carlo works. It will not go into deep detail on the underlying stochastic analysis of derivatives pricing, some results might be quoted and no arbitrage is assumed, the main focus is on the numerical and computational aspects of this problem and methods of improving efficiency of Monte Carlo simulations. Main focus will be on control variates and importance sampling and their impact on variance and computation time when comparing to the basic crude Mote Carlo. The contract types studied are basic European options and Asian options on stocks.   \n",
    "\n",
    "The project is written in Python, and the following libraries and modules as used:\n",
    "\n",
    "numpy\n",
    "\n",
    "pandas\n",
    "\n",
    "time\n",
    "\n",
    "matplotlib\n",
    "\n",
    "scipy\n",
    "\n",
    "For comparison in computational speed, Fortran (f90 standard) is also used, with multithreading using OpenMP and wrapping the code into a Python module using F2PY. Since this is a jupyter notebook project, the wrapping is done with fortranmagic (https://github.com/mgaitan/fortran_magic). The Fortran translation of the Mersenne Twister random number generator from C was written by Hiroshi Takano and augmented by many, the full list and copyright declaration are presented at the end with the Fortran code.   \n"
   ]
  },
  {
   "cell_type": "markdown",
   "metadata": {},
   "source": [
    "## Monte Carlo simulation\n",
    "\n",
    "The basic idea of Monte Carlo simulation in this context is to evaluate expectation values by drawing random samples from the underlying distribution of the quantity of interest and calculating their average. This average is a good unbiased estimator of the expectation value thanks to the Law of Large Numbers. The error of the estimator can be evaluated as follows: let $f$ be the quantity of whose expectation value is of interest, then the estimator of the expectation value (denoted with a hat) is\n",
    "\n",
    "\\begin{alignat}{1}\n",
    "\\hat{\\mathbb{E}}[f] = \\dfrac{\\sum_i^n f_i}{n},\n",
    "\\end{alignat}\n",
    "\n",
    "and as the variance of this estimator one gets\n",
    "\n",
    "\\begin{alignat}{2}\n",
    "&\\text{Var}(\\hat{\\mathbb{E}}[f]) &&= \\text{Var}\\left(\\dfrac{\\sum_i^n f_i}{n}\\right)=\\mathbb{E}\\left[\\left(\\dfrac{\\sum_i^n f_i}{n}-\\mathbb{E}\\left[\\dfrac{\\sum_i^n f_i}{n}\\right]\\right)^2\\right]=\\dfrac{1}{n^2}\\text{Var}\\left(\\sum_i^n f_i\\right) = \\dfrac{1}{n^2}\\left(\\sum_i^n\\text{Var}(f_i)-2\\sum_{i\\neq j}^n\\text{Cov}(f_i,f_j)\\right) \\nonumber \\\\\n",
    "& &&= \\dfrac{1}{n^2}n\\text{Var}(f)=\\frac{\\sigma^2}{n},\n",
    "\\end{alignat}\n",
    "\n",
    "where the independence of samples $f_i$ is assumed. The standard error of the estimator $\\hat{\\mathbb{E}}(f)$ is defined as \n",
    "\n",
    "\\begin{alignat}{1}\n",
    "\\sigma_{\\hat{\\mathbb{E}}} = \\dfrac{\\sigma}{\\sqrt{n}} \\approx \\dfrac{s}{\\sqrt{n}},\n",
    "\\end{alignat}\n",
    "\n",
    "where $\\sigma$ is the population standard deviation of the underlying quantity and $s$ is the sample standard deviation. The approximation in $(3)$ is usually needed since the population variance is not necessarily known. The standard error is the standard deviation of the sampling distribution and is a good metric in estimating the error of the Monte Carlo estimator. Because of the $\\sigma^{-1/2}$ convergence of the error, it is usually more practical from computational point of view to try and reduce the sample standard distribution than add more simulation steps when attempting to reduce error. \n",
    "\n",
    "The distribution from which random samples are drawn is dependent on the system under study and the variance and error  reduction schemes employed are chosen keeping this in mind. "
   ]
  },
  {
   "cell_type": "markdown",
   "metadata": {},
   "source": [
    "## Brownian motion and the Black-Scholes equation\n",
    "\n",
    "### Brownian motion\n",
    "\n",
    "Standard Brownian motion $W(t)$ is a continuous time stochastic process that has the following properties:\n",
    "\n",
    "\\begin{alignat}{1}\n",
    "& W(0) = 0, \\\\\n",
    "& W(t) \\text{ is continuous in $t$ with probability 1}, \\\\\n",
    "& W(t)-W(s) \\sim \\mathcal{N}(0,t-s), \\text{for any $0\\leqslant s\\leqslant t$},\n",
    "\\end{alignat}\n",
    "\n",
    "It follows from $(5)$ and $(6)$ that for a mapping $t \\rightarrow [0,T]$ \n",
    "\n",
    "\\begin{alignat}{1}\n",
    "W(t) \\sim \\mathcal{N}(0,t), \\text{ for $0\\leqslant t\\leqslant T$}.\n",
    "\\end{alignat}\n",
    "\n",
    "A process $X(t)$ is a Brownian motion with drift $\\mu$ and diffusion $\\sigma^2$, denoted by $X(t) \\sim BM(\\mu,\\sigma^2)$ where $\\sigma>0$, if \n",
    "\n",
    "\\begin{alignat}{1}\n",
    "W(t) = \\dfrac{X(t)-\\mu t}{\\sigma},\n",
    "\\end{alignat}\n",
    "\n",
    "from which it can be seen how to construct $X(t)$ from the standard Brownian motion. Moreover $X(t)$ solves the SDE\n",
    "\n",
    "\\begin{alignat}{1}\n",
    "dX(t) = \\mu dt + \\sigma dW(t),\n",
    "\\end{alignat}\n",
    "\n",
    "and has the distribution $X(t) \\sim \\mathcal{N}(\\mu t, \\sigma^2 t)$. For the purposes of this investigation described above the parameters $\\mu$ and $\\sigma$ are kept constant for most of the simulations, even though in reality they usually are not.\n",
    "\n",
    "### Black-Scholes stock price dynamics and solution for European Call option\n",
    "\n",
    "Denoting the price of the stock underlying an option as an Ito process $S(t)$, the evolution of the stock price in the Black-Scholes model is described by the SDE\n",
    "\n",
    "\\begin{alignat}{1}\n",
    "dS(t) = \\mu S(t)dt+\\sigma S(t)dW(t),\n",
    "\\end{alignat}\n",
    "\n",
    "where $W(t)$ is a standard Brownian motion described above. Since both $\\mu$ and $\\sigma$ are kept constant, solution for $(7)$, assuming $S(t)\\neq 0 $ for all $0 \\leqslant t \\leqslant T$ in the interval $[0,T]$ can be obtained as \n",
    "\n",
    "\\begin{alignat}{1}\n",
    "dS(t) &= \\mu S(t)dt+\\sigma S(t)dW(t) \\\\ \n",
    "\\Leftrightarrow \\dfrac{dS(t)}{S(t)} &= \\mu dt+\\sigma dW(t). \n",
    "\\end{alignat}\n",
    "\n",
    "Now $(11)$ is usually solved by first noting that $(9)$ looks like the derivative of a logarithm and then implementing Ito's lemma on $f(S(t))=\\ln(S(t))$:\n",
    "\n",
    "\\begin{alignat}{2}\n",
    "df(S(t)) &=&& \\dfrac{\\partial f(S(t))}{\\partial S(t)}dS(t)+\\dfrac{1}{2}\\dfrac{\\partial^2 f(S(t))}{\\partial S(t)^2}dS(t)^2 \\\\\n",
    "&=&& \\dfrac{1}{S(t)}dS(t)-\\dfrac{1}{2}\\dfrac{1}{S(t)^2}dS(t)^2 \\\\\n",
    "&=&& \\dfrac{\\mu S(t)dt+\\sigma S(t)dW(t)}{S(t)}-\\dfrac{1}{2}\\dfrac{\\sigma^2 S(t)^2dW(t)^2}{S(t)^2} \\\\\n",
    "&=&& \\left(\\mu-\\dfrac{\\sigma^2}{2}\\right)dt+\\sigma dW(t),\n",
    "\\end{alignat}\n",
    "\n",
    "where quadratic variation $dW(t)^2=dt$ was used for the last step. Integrating both sides of $(12)$ gives\n",
    "\n",
    "\\begin{alignat}{2}\n",
    "\\int_0^Td\\ln{(S(t))} & = \\int_0^T\\left(\\mu-\\dfrac{\\sigma^2}{2}\\right)dt + \\int_0^T\\sigma dW(t) \\nonumber \\\\\n",
    "\\Leftrightarrow S(T) & = S(0)\\text{exp}\\left((\\mu-\\frac{1}{2}\\sigma^2)T+\\sigma W(T)\\right).\n",
    "\\end{alignat}\n",
    "\n",
    "From equation $(17)$ one sees that in this scheme the stock price follows geometric Brownian motion (GBM) which allows the closed form solution for Black-Scholes equation for European Call and Put options. This form also serves as the basis for simulating paths of stock prices in pricing the options using Monte Carlo simulation. The Black-Scholes PDE with boundary conditions $V(0,t)=0$ and $V(S(T),T)=\\text{max}(S(T)-K,0)$ where $K$ is the strike price,\n",
    "\n",
    "\\begin{alignat}{1}\n",
    "\\dfrac{\\partial V(S(t),t)}{\\partial t}+\\mu S(t)\\dfrac{\\partial V(S(t),t)}{\\partial S(t)}+\\dfrac{1}{2}\\sigma^2S(t)^2\\dfrac{\\partial^2 V(S(t),t)}{\\partial S(t)^2}-\\mu V(S(t),t)=0,\n",
    "\\end{alignat}\n",
    "\n",
    "will not be derived, but since the closed form solution for an European Call option plays an important role later, the solution is presented here. \n",
    "\n",
    "Since equation $(18)$ is a parabolic PDE, it can be transformed into a diffusion equation with suitable transformations of the variables. This is usually done by first transforming the function $V(S(t),t)=f(x,\\tau)\\cdot K=f(\\ln{S},\\frac{\\sigma^2(T-t)}{2})\\cdot K$ where the new variables $x$ and $\\tau$ are defined as \n",
    "\n",
    "\\begin{alignat}{1}\n",
    "x &= \\ln{\\dfrac{S}{K}}, \\\\\n",
    "\\tau &= \\dfrac{\\sigma^2}{2}(T-t),\n",
    "\\end{alignat}\n",
    "\n",
    "and the derivatives in $(18)$ become (suppressing the function arguments from now on) \n",
    "\n",
    "\\begin{alignat}{1}\n",
    "\\dfrac{\\partial V}{\\partial t} &= K\\dfrac{\\partial f}{\\partial\\tau}=-\\dfrac{\\sigma^2}{2}K\\dfrac{\\partial f}{\\partial \\tau} \\\\\n",
    "\\dfrac{\\partial V}{\\partial S} &= K\\dfrac{\\partial f}{\\partial x}\\dfrac{\\partial x}{\\partial S}=\\dfrac{K}{S}\\dfrac{\\partial f}{\\partial x} \\\\\n",
    "\\dfrac{\\partial^2V}{\\partial S^2} &= \\dfrac{\\partial}{\\partial S}\\dfrac{\\partial f}{\\partial S} = \\dfrac{K}{S^2}\\left(\\dfrac{\\partial^2 f}{\\partial x^2}-\\dfrac{\\partial f}{\\partial x}\\right).\n",
    "\\end{alignat}\n",
    "\n",
    "Substituting $(21)$-$(23)$ to equation $(18)$ and simplifying, one gets\n",
    "\n",
    "\\begin{alignat}{1}\n",
    "&-\\dfrac{\\sigma^2}{2}K\\dfrac{\\partial f}{\\partial \\tau}+\\mu S\\dfrac{K}{S}\\dfrac{\\partial f}{\\partial x}+\\dfrac{\\sigma^2}{2}S^2\\dfrac{K}{S^2}\\left(\\dfrac{\\partial^2f}{\\partial x^2}-\\dfrac{\\partial f}{\\partial x}\\right)-\\mu Kf=0 \\nonumber \\\\\n",
    "& \\nonumber \\\\\n",
    "&\\Leftrightarrow \\dfrac{\\partial f}{\\partial \\tau} = \\dfrac{\\partial^2 f}{\\partial x^2}+\\left(\\dfrac{2\\mu}{\\sigma^2}-1\\right)\\dfrac{\\partial f}{\\partial x}-\\dfrac{2\\mu}{\\sigma^2}f.\n",
    "\\end{alignat}\n",
    "\n",
    "By defining a new function $g(x,\\tau)$ such that $f(x,\\tau) = e^{Ax-B\\tau}g(x,\\tau)$, the derivatives in $(24)$ can be written as \n",
    "\n",
    "\\begin{alignat}{1}\n",
    "\\dfrac{\\partial f}{\\partial \\tau} &= e^{Ax-B\\tau}\\dfrac{\\partial g}{\\partial \\tau}+Be^{Ax-B\\tau}g, \\\\\n",
    "\\dfrac{\\partial f}{\\partial x} &= e^{Ax-B\\tau}\\dfrac{\\partial g}{\\partial x}+Ae^{Ax-B\\tau}g, \\\\\n",
    "\\dfrac{\\partial^2 f}{\\partial x^2} &= e^{Ax-B\\tau}\\dfrac{\\partial^2 g}{\\partial x^2}+2Ae^{Ax-B\\tau}\\dfrac{\\partial g}{\\partial x}+A^2e^{Ax-B\\tau}g,\n",
    "\\end{alignat}\n",
    "\n",
    "and substituting these into $(24)$ one gets\n",
    "\n",
    "\\begin{alignat}{1}\n",
    "& e^{Ax-B\\tau}\\left(\\dfrac{\\partial g}{\\partial \\tau}+Bg\\right) = e^{Ax-B\\tau}\\left(\\dfrac{\\partial^2 g}{\\partial x^2}+2A\\dfrac{\\partial g}{\\partial x}+A^2g\\right)+\\left(\\dfrac{2\\mu}{\\sigma^2}-1\\right)e^{Ax-B\\tau}\\left(\\dfrac{\\partial g}{\\partial x}+Ag\\right)-e^{Ax-B\\tau}\\dfrac{2\\mu}{\\sigma^2}g \\nonumber \\\\\n",
    "& \\nonumber \\\\\n",
    "&\\Leftrightarrow \\dfrac{\\partial g}{\\partial\\tau}=\\dfrac{\\partial^2 g}{\\partial x^2}+\\left(2A+\\dfrac{2\\mu}{\\sigma^2}-1\\right)\\dfrac{\\partial g}{\\partial x}+\\left(A^2+\\dfrac{2\\mu}{\\sigma^2}A-A-\\dfrac{2\\mu}{\\sigma^2}-B\\right)g. \n",
    "\\end{alignat}\n",
    "\n",
    "Demanding that the constant terms in $(28)$ are zero will yield the following conditions for $A$ and $B$:\n",
    "\n",
    "\\begin{alignat}{1}\n",
    "&A = \\dfrac{1}{2}-\\dfrac{\\mu}{\\sigma^2}, \\\\\n",
    "&B = -\\dfrac{1}{4}\\left(1+\\dfrac{2\\mu}{\\sigma^2}\\right)^2.\n",
    "\\end{alignat}\n",
    "\n",
    "The problem has thus reduced to solving the diffusion equation \n",
    "\n",
    "\\begin{alignat}{1}\n",
    "\\dfrac{\\partial g(x,\\tau)}{\\partial\\tau}=\\dfrac{\\partial^2 g(x,\\tau)}{\\partial x^2},\n",
    "\\end{alignat}\n",
    "\n",
    "which can be solved using the well known fundamental solution of diffusion equation\n",
    "\n",
    "\\begin{alignat}{1}\n",
    "F(x,\\tau) = \\dfrac{1}{\\sqrt{4\\pi\\tau}}\\text{exp}\\left(-\\dfrac{x^2}{4\\tau}\\right),\n",
    "\\end{alignat}\n",
    "\n",
    "and the initial condition $g(x,0)$ by taking their convolution\n",
    "\n",
    "\\begin{alignat}{1}\n",
    "g(x,\\tau) = (g(x,0)*F(x,\\tau))(x) = \\int_{-\\infty}^{\\infty}g(y,0)F(x-y,\\tau)dy.\n",
    "\\end{alignat}\n",
    "\n",
    "From the definition of $\\tau$ the initial condition for $g(x,\\tau)$ corresponds to the boundary condition of the original problem at $t=T$:\n",
    "\n",
    "\\begin{alignat}{1}\n",
    "g(x,0) = e^{-Ax}\\dfrac{1}{K}\\text{max}(S(T)-K,0)= e^{-Ax}\\dfrac{1}{K}\\text{max}(Ke^x-K,0)=\\text{max}(e^{(1-A)x}-e^{-Ax},0),\n",
    "\\end{alignat}\n",
    "\n",
    "where $x$ is evaluated at $S(T)$. The integral in $(33)$ expands to\n",
    "\n",
    "\\begin{alignat}{2}\n",
    "&g(x,\\tau) &&= \\dfrac{1}{\\sqrt{4\\pi\\tau}}\\int_{-\\infty}^{\\infty}e^{-\\frac{(x-y)^2}{4\\tau}}\\text{max}(e^{(1-A)y}-e^{-Ay},0)dy \\nonumber \\\\\n",
    "& &&=\\dfrac{1}{\\sqrt{4\\pi\\tau}}\\int_{0}^{\\infty}e^{-\\frac{(x-y)^2}{4\\tau}}(e^{(1-A)y}-e^{-Ay})dy \\nonumber \\\\\n",
    "& &&=\\dfrac{1}{\\sqrt{4\\pi\\tau}}\\left[\\int_{0}^{\\infty}\\text{exp}\\left(-\\dfrac{(x-y)^2}{4\\tau}+(1-A)y\\right)dy-\\int_{0}^{\\infty}\\text{exp}\\left(-\\dfrac{(x-y)^2}{4\\tau}-Ay\\right)dy\\right].\n",
    "\\end{alignat}\n",
    "\n",
    "These integrals can be solved by completing the squares in the exponentials, i.e. one has to solve $-\\frac{1}{4\\tau}(x-y)^2+Cy=-d_1(d_2-y)^2+d_3$. By expanding both sides of this equation, the constants with respect to the integral are found to be\n",
    "\n",
    "\\begin{alignat}{1}\n",
    "d_1=\\dfrac{1}{4\\tau}, \\quad d_2=x+2\\tau C, \\quad d_3=C(x+\\tau C).\n",
    "\\end{alignat}\n",
    "\n",
    "Using these the integrals in $(35)$ become\n",
    "\n",
    "\\begin{alignat}{2}\n",
    "&g(x,\\tau) &&= \\dfrac{1}{\\sqrt{4\\pi\\tau}}\\left[\\int_{0}^{\\infty}\\text{exp}\\left(-d_1(d_2-y)^2+d_3\\right)dy-\\int_{0}^{\\infty}\\text{exp}\\left(-D_1(D_2-y)^2+D_3\\right)dy\\right] \\nonumber \\\\\n",
    "& &&= \\dfrac{1}{\\sqrt{4\\pi\\tau}}(I_1-I_2),\n",
    "\\end{alignat}\n",
    "\n",
    "and treating the integrals individually with one final change of variables\n",
    "\n",
    "\\begin{alignat}{2}\n",
    "&I_1 && = \\text{exp}(d_3)\\int_0^{\\infty}\\text{exp}\\left(-d_1(d_2-y)^2\\right)dy, \\quad \\zeta=(d_2-y)\\sqrt{2d_1} \\nonumber \\\\\n",
    "& &&= \\dfrac{\\text{exp}(d_3)}{\\sqrt{2d_1}}\\int_{-\\infty}^{d_2\\sqrt{2d_1}}\\text{exp}\\left(-\\dfrac{\\zeta^2}{2}\\right)d\\zeta, \\\\\n",
    "& && \\nonumber \\\\\n",
    "&I_2 && = \\text{exp}(D_3)\\int_0^{\\infty}\\text{exp}\\left(-D_1(D_2-y)^2\\right)dy, \\quad \\eta=(D_2-y)\\sqrt{2D_1} \\nonumber \\\\\n",
    "& &&= \\dfrac{\\text{exp}(D_3)}{\\sqrt{2D_1}}\\int_{-\\infty}^{D_2\\sqrt{2D_1}}\\text{exp}\\left(-\\dfrac{\\eta^2}{2}\\right)d\\eta,\n",
    "\\end{alignat}\n",
    "\n",
    "one finally gets the expression\n",
    "\n",
    "\\begin{alignat}{2}\n",
    "&g(x,\\tau) &&= \\dfrac{\\text{exp}(d_3)}{\\sqrt{4d_1\\tau}}\\int_{-\\infty}^{d_2\\sqrt{2d_1}}\\dfrac{1}{\\sqrt{2\\pi}}\\text{exp}\\left(-\\dfrac{\\zeta^2}{2}\\right)d\\zeta-\\dfrac{\\text{exp}(D_3)}{\\sqrt{4D_1\\tau}}\\int_{-\\infty}^{D_2\\sqrt{2D_1}}\\dfrac{1}{\\sqrt{2\\pi}}\\text{exp}\\left(-\\dfrac{\\eta^2}{2}\\right)d\\eta \\\\\n",
    "& && \\nonumber \\\\\n",
    "& &&= \\dfrac{\\text{exp}(d_3)}{\\sqrt{4d_1\\tau}}\\Phi\\left(d_2\\sqrt{2d_1}\\right)-\\dfrac{\\text{exp}(D_3)}{\\sqrt{4D_1\\tau}}\\Phi\\left(D_2\\sqrt{2D_1}\\right),\n",
    "\\end{alignat}\n",
    "\n",
    "where $\\Phi(x)$ is the cumulative distribution function for standard normal distribution. The denominator in front of both terms is $1$ since $d_3=D_3=4\\tau$. Substituting back the original variables, while noticing that $(B+A^2)\\tau=-\\mu(T-t)$,\n",
    "\n",
    "\\begin{alignat}{2}\n",
    "&V(S(t),t) && = K\\text{exp}\\left(Ax+B\\tau\\right)\\left[\\text{exp}(d_3)\\Phi\\left(d_2\\sqrt{2d_1}\\right)-\\text{exp}(D_3)\\Phi\\left(D_2\\sqrt{2D_1}\\right)\\right] \\nonumber \\\\\n",
    "& && = K\\text{exp}\\left(Ax+B\\tau+(1-A)x+A^2\\tau\\right)\\Phi\\left(d_2\\sqrt{2d_1}\\right)-K\\text{exp}\\left(Ax+B\\tau-Ax-A^2\\tau\\right)\\Phi\\left(D_2\\sqrt{2D_1}\\right) \\nonumber \\\\\n",
    "& && = Ke^x\\Phi\\left(\\dfrac{x+2\\tau-2\\tau A}{\\sqrt{2\\tau}}\\right)-K\\text{exp}\\left((B+A^2)\\tau\\right)\\Phi\\left(\\dfrac{x-2\\tau A}{\\sqrt{2\\tau}}\\right) \\nonumber \\\\\n",
    "& && = S(t)\\Phi\\left(\\dfrac{\\ln{\\dfrac{S(t)}{K}}+\\dfrac{\\sigma^2}{2}(T-t)+\\mu(T-t)}{\\sigma\\sqrt{T-t}}\\right)-e^{-\\mu(T-t)}K\\Phi\\left(\\dfrac{ln{\\dfrac{S(t)}{K}}-\\dfrac{\\sigma^2}{2}(T-t)+\\mu(T-t)}{\\sigma\\sqrt{T-t}}\\right) \\nonumber \\\\\n",
    "& && \\nonumber \\\\\n",
    "&V(S(t),t) && = S(t)\\Phi\\left(\\dfrac{\\ln{\\dfrac{S(t)}{K}}+\\left(\\mu+\\dfrac{\\sigma^2}{2}\\right)(T-t)}{\\sigma\\sqrt{T-t}}\\right)-e^{-\\mu(T-t)}K\\Phi\\left(\\dfrac{\\ln{\\dfrac{S(t)}{K}}+\\left(\\mu-\\dfrac{\\sigma^2}{2}\\right)(T-t)}{\\sigma\\sqrt{T-t}}\\right) = \\text{BS}\\left(S,\\sigma,T,\\mu,K\\right), \n",
    "\\end{alignat}\n",
    "\n",
    "one finally gets the famous closed form solution for Black-Scholes equation for European Call option. \n",
    "\n",
    "### Some final remarks\n",
    "\n",
    "In practice, a \"risk free\" continuously compounded interest rate $r$ is used as the drift parameter $\\mu$ in order to impose risk-neutral dynamics on the stock prices, and if need be for including dividends, it can be modeled with the continuous dividend yield $\\delta$ by replacing the risk free rate with $r-\\delta$. Formally this is done by changing the probability measure with Radon-Nikodym derivative into a risk-neutral measure. The risk free rate used in this project is the annualized interest rate of the 3 month U.S. Treasury Bill calculated from the time when the option would be purchased. For the volatility $\\sigma$ of the underlying stock historical volatility as well as implied volatility is used.\n",
    "\n",
    "The current price of the call option will be the expectation value of the payoff; expected difference in the price of the underlying asset at maturity and the strike price of the option discounted to present with the risk free rate\n",
    "\n",
    "\\begin{alignat}{1}\n",
    "V(S(0),0) = \\mathbb{E}\\left[e^{-rT}\\text{max}\\left(S(T)-K,0\\right)\\right],\n",
    "\\end{alignat}\n",
    "\n",
    "which corresponds to $(42)$ with European options. For Asian options, which are dependent on the path of the stock price, the stock price at maturity has to be evaluated as the average over multiple possible paths. The expectation values are calculated by simulating the system for large number of times and averaging over the results, relying on the law of large numbers to give an unbiased estimate of the expectation value. \n",
    "\n",
    "Equation $(42)$ will be used as a comparison to the prices obtained from Monte Carlo simulation, as well as when using geometric Brownian motion as a control variate in simulating the prices for Asian options and calculating the implied volatility of the stock. \n",
    "\n",
    "In the next section the efficiency of Monte Carlo simulations under different schemes will be compared when pricing an European Call option. But first lets import all the modules needed for this project.   "
   ]
  },
  {
   "cell_type": "code",
   "execution_count": 29,
   "metadata": {
    "collapsed": true
   },
   "outputs": [],
   "source": [
    "import numpy as np\n",
    "import matplotlib.pyplot as plt\n",
    "import pandas as pd\n",
    "from scipy.optimize import newton\n",
    "from scipy.stats import norm \n",
    "from time import time\n",
    "\n",
    "%matplotlib inline"
   ]
  },
  {
   "cell_type": "markdown",
   "metadata": {},
   "source": [
    "## European Call\n",
    "\n",
    "The data used for the simulations will be the price data of the Apple stock from November 14 2016 to November 10 2017 and Call option ask prices for six strikes, closest three in the money and out of the money expiring November 24 2017. This data might be updated or changed from time to time to keep the project more up to date and the simulated prices comparable to the current prices in the market. The rate of a 3 month U.S. Treasury Bill used is 1.21%, which leads to the annualized rate of 4.93%. As was stated above, the historical volatility and implied volatilities are both used. \n",
    "\n",
    "### Basic Monte Carlo scheme\n",
    "\n",
    "From a simulation point of view, the scheme for an European option is quite simple. The expectation value in $(43)$ is calculated by simulating many values for $S(T)$ using $(17)$ and calculating the average of $e^{-rT}\\text{max}(S(T)-K,0)$. A few differences are made to $(17)$ though, $\\mu$ is replaced with the risk free rate and $W(T)$ is replaced by $\\sqrt{T}Z$; both $W(T)$ and $\\sqrt{T}Z$ have the distribution $\\sim\\mathcal{N}(0,T)$ with $Z\\sim\\mathcal{N}(0,1)$. The formula $(17)$ then becomes\n",
    "\n",
    "\\begin{alignat}{1}\n",
    "S(T) = S(0)\\text{exp}\\left(\\left(r-\\dfrac{1}{2}\\sigma^2\\right)T+\\sigma\\sqrt{T}Z\\right),\n",
    "\\end{alignat}\n",
    "\n",
    "where $S(0)$ is the present price of the stock. The algorithm used for the basic Monte Carlo simulation is\n",
    "\n",
    "\\begin{alignat*}{2}\n",
    "&P &&= [\\text{list of simulated prices}] \\\\\n",
    "&\\text{for}&&i\\rightarrow\\text{ very large number} \\\\\n",
    "&    &&\\text{generate $Z_i$}\\sim\\mathcal{N}(0,1) \\\\\n",
    "&    &&S_i = S(0)\\text{exp}\\left(\\left(r-\\dfrac{1}{2}\\sigma^2\\right)T+\\sigma\\sqrt{T}Z_i\\right) \\\\\n",
    "&    &&P[i]=\\text{exp}\\left(-rT \\right)\\text{max}\\left(S_i-K,0 \\right) \\\\\n",
    "&V &&= \\text{mean}(P)\n",
    "\\end{alignat*}\n",
    "\n",
    "The Python method for this is:"
   ]
  },
  {
   "cell_type": "code",
   "execution_count": 70,
   "metadata": {
    "collapsed": true
   },
   "outputs": [],
   "source": [
    "# n is the number of simulation steps\n",
    "# r is the risk free rate\n",
    "# sigma is the volatility of the stock\n",
    "# T is the time to maturity in years\n",
    "# S_0 is the current price of the stock\n",
    "# K is the stricke price of the option\n",
    "   \n",
    "def eMC_optionsBasic(n, r, sigma, T, S_0, K):\n",
    "    # Method for calculating the option price with basic crude MC \n",
    "    \n",
    "    # Calculate some values in advance for speed\n",
    "    x_1, x_2, x_3 = (r-0.5*np.power(sigma,2))*T, sigma*np.sqrt(T), np.exp(-r*T)\n",
    "    \n",
    "    # Calculate the simulated option prices\n",
    "    #P = np.array([x_3*np.maximum(S_0*np.exp(x_1+x_2*np.random.randn())-K,0) for i in range(n)]) \n",
    "    P = np.fromiter((x_3*np.maximum(S_0*np.exp(x_1+x_2*np.random.randn())-K,0) for i in range(n)), np.float,n)\n",
    "    \n",
    "    # Calculated the mean of the simulated option prices\n",
    "    V = np.mean(P)                                   \n",
    "    \n",
    "    return V, P    # Return also P for calculating statistics"
   ]
  },
  {
   "cell_type": "markdown",
   "metadata": {},
   "source": [
    "### Implied volatility\n",
    "\n",
    "The implied volatility can be solved by the Newton-Raphson method using $(42)$; the goal is to find a value for $\\sigma$ so that $BS(S,\\sigma,r,T,K)-V=0$, where $V$ is the observed price. The procedure for Newton-Raphson method is as follows:\n",
    "\n",
    "\\begin{alignat}{1}\n",
    "x_{n+1} = x_n-\\frac{f(x)}{f'(x)},\n",
    "\\end{alignat}\n",
    "\n",
    "where $f'(x)$ is the first derivative of $f(x)$. In the present case $f = BS-V$ and $x=\\sigma$. As $V$ is currently observed option price it is constant and the derivative $f'$ is the vega, $\\nu$, of the option price. This can be calculated in a closed form:\n",
    "\n",
    "\\begin{alignat}{1}\n",
    "& \\dfrac{\\partial BS(S,\\sigma,r,T,K)}{\\partial \\sigma} = S\\dfrac{\\partial \\Phi(Y_1)}{\\partial Y_1}\\dfrac{\\partial Y_1}{\\partial \\sigma}-Ke^{-rT}\\dfrac{\\partial \\Phi(Y_2)}{\\partial Y_2}\\dfrac{\\partial Y_2}{\\partial \\sigma},\n",
    "\\end{alignat}\n",
    "\n",
    "where $Y_2$ and $Y_2$ are the arguments in $(42)$ when $t=0$. The derivatives of $(46)$ can be evaluated with \n",
    "\n",
    "\\begin{alignat}{2}\n",
    "&\\dfrac{\\partial}{\\partial x}\\Phi(x) &&= \\dfrac{1}{\\sqrt{2\\pi}}\\dfrac{\\partial}{\\partial t}\\int_{-\\infty}^x e^{-t^2/2}dt = \\dfrac{1}{\\sqrt{2\\pi}}e^{-x^2/2}\n",
    "\\end{alignat}\n",
    "\n",
    "and \n",
    "\n",
    "\\begin{alignat}{2}\n",
    "&\\dfrac{\\partial Y_1}{\\partial\\sigma} &&= \\dfrac{\\partial}{\\partial\\sigma}\\dfrac{\\ln{S/K}+\\left(r+\\frac{\\sigma^2}{2}\\right)T}{\\sigma\\sqrt{T}} = -\\dfrac{\\ln{S/K}+\\left(r-\\frac{\\sigma^2}{2}\\right)T}{\\sigma^2\\sqrt{T}}=-\\dfrac{1}{\\sigma}Y_2 \\\\\n",
    "& && \\nonumber \\\\\n",
    "&\\dfrac{\\partial Y_2}{\\partial\\sigma} &&= \\dfrac{\\partial}{\\partial\\sigma}\\dfrac{\\ln{S/K}+\\left(r-\\frac{\\sigma^2}{2}\\right)T}{\\sigma\\sqrt{T}} = -\\dfrac{\\ln{S/K}+\\left(r+\\frac{\\sigma^2}{2}\\right)T}{\\sigma^2\\sqrt{T}}=-\\dfrac{1}{\\sigma}Y_1\n",
    "\\end{alignat}\n",
    "\n",
    "so $(46)$ becomes \n",
    "\n",
    "\\begin{alignat}{2}\n",
    "& \\dfrac{\\partial BS}{\\partial \\sigma} &&=-S\\dfrac{1}{\\sqrt{2\\pi}}e^{-Y_1^2/2}\\dfrac{1}{\\sigma}Y_2+Ke^{-rT}\\dfrac{1}{\\sqrt{2\\pi}}e^{-Y_2^2/2}\\dfrac{1}{\\sigma}Y_1=\\dfrac{1}{\\sqrt{2\\pi}}e^{-Y_1^2/2}\\left(\\dfrac{Ke^{-rT}Y_1}{\\sigma}e^{(Y_1^2-Y_2^2)/2}-\\dfrac{SY_2}{\\sigma}\\right) \\nonumber \\\\\n",
    "& &&= \\dfrac{1}{\\sqrt{2\\pi}}e^{-Y_1^2/2}\\left(\\dfrac{Ke^{-rT}Y_1}{\\sigma}e^{(Y_1-Y_2)(Y_1+Y_2)/2}-\\dfrac{SY_2}{\\sigma}\\right), \\quad Y_1-Y_2=\\sigma\\sqrt{T}, \\quad Y_1+Y_2=\\frac{2(\\ln{S/K}+rT)}{\\sigma\\sqrt{T}} \\nonumber \\\\\n",
    "& &&= \\dfrac{1}{\\sqrt{2\\pi}}e^{-Y_1^2/2}\\left(\\dfrac{Ke^{-rT}Y_1}{\\sigma}e^{\\ln{S/K}+rT}-\\dfrac{SY_2}{\\sigma}\\right) = \\dfrac{S\\sqrt{T}}{\\sqrt{2\\pi}}\\text{exp}\\left(-\\dfrac{\\left(\\ln{\\frac{S}{K}}+\\left(r+\\frac{\\sigma^2}{2}\\right)T\\right)^2}{2\\sigma^2T}\\right)\\equiv\\nu(\\sigma). \n",
    "\\end{alignat}\n",
    "\n",
    "The Newton-Raphson scheme $(45)$ is now\n",
    "\n",
    "\\begin{alignat}{1}\n",
    "\\sigma_{n+1} = \\sigma_n+\\dfrac{BS(\\sigma_n)-V}{\\nu(\\sigma_n)}.\n",
    "\\end{alignat}\n",
    "\n",
    "The implied volatility will be calculated with a method in SciPy optimization library with the historical volatility as a starting point. The exponential in vega is of course the probability density function of normal distribution, so the SciPy stats library comes in very handy."
   ]
  },
  {
   "cell_type": "code",
   "execution_count": 31,
   "metadata": {
    "collapsed": true
   },
   "outputs": [],
   "source": [
    "# sigma_h is the (historical) volatility\n",
    "# V is the observed price of the option \n",
    "\n",
    "def B_S(sigma_h, r, T, S_0, K):\n",
    "    # Method for calculating the Black-Scholes solution\n",
    "    \n",
    "    # Arguments for the cumulative distribution function\n",
    "    Y_1 = (np.log(S_0/K)+(r+0.5*np.power(sigma_h,2))*T)/(sigma_h*np.sqrt(T))\n",
    "    Y_2 = (np.log(S_0/K)+(r-0.5*np.power(sigma_h,2))*T)/(sigma_h*np.sqrt(T))\n",
    "    \n",
    "    # Black-Scholes solution\n",
    "    BS = S_0*norm.cdf(Y_1) - K*np.exp(-r*T)*norm.cdf(Y_2)\n",
    "    \n",
    "    return BS\n",
    "\n",
    "def e_vega(sigma_h, r, T, S_0, K, V):\n",
    "    # Method for calculating Vega for European Call\n",
    "    \n",
    "    # Just in order to fit the solver\n",
    "    V = 0.0\n",
    "    \n",
    "    Y = np.power((np.log(S_0/K)+(r+0.5*np.power(sigma_h,2))*T)/(sigma_h*np.sqrt(T)),2)*0.5\n",
    "    vega = S_0*np.sqrt(T)*norm.pdf(Y)\n",
    "    \n",
    "    return vega\n",
    "    \n",
    "\n",
    "def e_sigmaImplied(r, sigma_h, T, S_0, K, V):\n",
    "    # Method for calculating implied volatility\n",
    "    \n",
    "    def BS_V(sigma_h, r, T, S_0, K, V):\n",
    "        # Method for calculating BS-V \n",
    "        \n",
    "        BS = B_S(sigma_h, r, T, S_0, K) # Calculate the Black-Scholes solution\n",
    "        \n",
    "        return(BS-V)\n",
    "    \n",
    "    # Calculating the implied volatility\n",
    "    sigma_i = newton(BS_V, sigma_h, fprime=e_vega, args=(r, T, S_0, K, V))\n",
    "    \n",
    "    return sigma_i"
   ]
  },
  {
   "cell_type": "markdown",
   "metadata": {},
   "source": [
    "Since the Newton-Raphson method in SciPy library takes in methods as arguments, calculating $BS(\\sigma_n)-V$ was written as a separate method. "
   ]
  },
  {
   "cell_type": "markdown",
   "metadata": {},
   "source": [
    "### Crude simulation\n",
    "\n",
    "The data is imported to Pandas from the file 'AAPL.csv' and visualized. "
   ]
  },
  {
   "cell_type": "code",
   "execution_count": 32,
   "metadata": {
    "scrolled": true
   },
   "outputs": [
    {
     "data": {
      "text/plain": [
       "<matplotlib.text.Text at 0x7f3bc68a7588>"
      ]
     },
     "execution_count": 32,
     "metadata": {},
     "output_type": "execute_result"
    },
    {
     "data": {
      "text/plain": [
       "<matplotlib.figure.Figure at 0x7f3c112bd550>"
      ]
     },
     "metadata": {},
     "output_type": "display_data"
    },
    {
     "data": {
      "image/png": "[encoded data removed]",
      "text/plain": [
       "<matplotlib.figure.Figure at 0x7f3bc6936208>"
      ]
     },
     "metadata": {},
     "output_type": "display_data"
    }
   ],
   "source": [
    "# Import the data\n",
    "data = pd.read_csv('AAPL.csv')\n",
    "\n",
    "# Create the log-returns\n",
    "data = data.assign(log_returns=np.log(data['Adj Close'].values)-np.log(data['Adj Close'].shift(1).values))\n",
    "\n",
    "# Plot the Adjusted Close prices and log-returns\n",
    "plt.figure(1)\n",
    "data.plot(x='Date', y='Adj Close', figsize=(14,4))\n",
    "data['log_returns'].plot(secondary_y=True, style='g', legend=True)\n",
    "plt.title('Stock price and log-return')"
   ]
  },
  {
   "cell_type": "markdown",
   "metadata": {
    "collapsed": true
   },
   "source": [
    "Everything seems to be in order. The current price of the stock is "
   ]
  },
  {
   "cell_type": "code",
   "execution_count": 5,
   "metadata": {},
   "outputs": [
    {
     "data": {
      "text/html": [
       "<div>\n",
       "<style scoped>\n",
       "    .dataframe tbody tr th:only-of-type {\n",
       "        vertical-align: middle;\n",
       "    }\n",
       "\n",
       "    .dataframe tbody tr th {\n",
       "        vertical-align: top;\n",
       "    }\n",
       "\n",
       "    .dataframe thead th {\n",
       "        text-align: right;\n",
       "    }\n",
       "</style>\n",
       "<table border=\"1\" class=\"dataframe\">\n",
       "  <thead>\n",
       "    <tr style=\"text-align: right;\">\n",
       "      <th></th>\n",
       "      <th>Date</th>\n",
       "      <th>Open</th>\n",
       "      <th>High</th>\n",
       "      <th>Low</th>\n",
       "      <th>Close</th>\n",
       "      <th>Adj Close</th>\n",
       "      <th>Volume</th>\n",
       "      <th>log_returns</th>\n",
       "    </tr>\n",
       "  </thead>\n",
       "  <tbody>\n",
       "    <tr>\n",
       "      <th>250</th>\n",
       "      <td>2017-11-10</td>\n",
       "      <td>175.110001</td>\n",
       "      <td>175.380005</td>\n",
       "      <td>174.270004</td>\n",
       "      <td>174.669998</td>\n",
       "      <td>174.669998</td>\n",
       "      <td>25104900</td>\n",
       "      <td>-0.003315</td>\n",
       "    </tr>\n",
       "  </tbody>\n",
       "</table>\n",
       "</div>"
      ],
      "text/plain": [
       "           Date        Open        High         Low       Close   Adj Close  \\\n",
       "250  2017-11-10  175.110001  175.380005  174.270004  174.669998  174.669998   \n",
       "\n",
       "       Volume  log_returns  \n",
       "250  25104900    -0.003315  "
      ]
     },
     "execution_count": 5,
     "metadata": {},
     "output_type": "execute_result"
    }
   ],
   "source": [
    "data.tail(1)"
   ]
  },
  {
   "cell_type": "markdown",
   "metadata": {},
   "source": [
    "and the parameters for the closest in the money Call option are $V=\\$3.70$ and $K=\\$172.50$. The standard deviation of the historical log-returns, $s$, serves as an estimator for the standard deviation of the stock price, which according to $(39)$ is of the form $\\sigma\\sqrt{t}$. The term $\\sigma$ can be estimated with $s/\\sqrt{t}$, and since the historical volatility is calculated from daily log-returns while the quantity of interest is annual volatility, $t$ is one over the number of trading days in a year, taken here to be $252$. The standard error of this estimate is $\\sigma_h/\\sqrt{2(n-1)}$. With these, and $r=4.93\\%$, the historical and implied volatilities can be determined:"
   ]
  },
  {
   "cell_type": "code",
   "execution_count": 33,
   "metadata": {},
   "outputs": [
    {
     "name": "stdout",
     "output_type": "stream",
     "text": [
      " Historical volatility is 0.171008035866 with standard error 0.00764771185789 | Implied volatility is: 0.164589693454\n"
     ]
    }
   ],
   "source": [
    "# sigma_h is historical volatility\n",
    "# r is the risk free rate\n",
    "# sigma_i is the volatility of the stock\n",
    "# T is the time to maturity in years\n",
    "# S_0 is the current price of the stock\n",
    "# K is the stricke price of the option\n",
    "# V is the observed option price\n",
    "\n",
    "r = 0.0493\n",
    "T = 2/52   # Two weeks to contract maturity\n",
    "S_0 = 174.67\n",
    "K = 172.50\n",
    "V = 3.70\n",
    "\n",
    "# Calculating the historical volatility\n",
    "sigma_h = np.std(np.array(data['log_returns'][1:]))*np.sqrt(252)\n",
    "\n",
    "# And calculating the implied volatility\n",
    "\n",
    "sigma_i = e_sigmaImplied(r, sigma_h, T, S_0, K, V)\n",
    "\n",
    "print(\" Historical volatility is\", sigma_h, \"with standard error\", sigma_h/np.sqrt(2*250), \"| Implied volatility is:\", sigma_i)"
   ]
  },
  {
   "cell_type": "markdown",
   "metadata": {},
   "source": [
    "Next the option price will be calculated both by Monte Carlo simulation as well as from the closed form solution with historical and implied volatilities. The Monte Carlo simulations will be done with multiple different simulation step numbers in order to investigate the effect it has on the accuracy."
   ]
  },
  {
   "cell_type": "code",
   "execution_count": 34,
   "metadata": {},
   "outputs": [
    {
     "name": "stdout",
     "output_type": "stream",
     "text": [
      "Black-Scholes solution with historical volatility: 3.77912272057\n",
      "And Black-Scholes solution with sigma_i is of course: 3.70000000581\n"
     ]
    }
   ],
   "source": [
    "# MC_price_h is the option price calculated with MC and historical volatility\n",
    "# MC_price_i is the option price calculated with MC and implied volatility\n",
    "# n is the number of simulation steps in the MC simulation\n",
    "# BS_price_h is the option price calculated with BS and historical volatility\n",
    "# BS_price_i is the option price calculated with BS and implied volatility\n",
    "\n",
    "# Calculate first the option price with Black-Scholes solution\n",
    "BS_price_h = B_S(sigma_h, r, T, S_0, K)\n",
    "BS_price_i = B_S(sigma_i, r, T, S_0, K) # For showing that implied volatility was calculated correctly\n",
    "\n",
    "print(\"Black-Scholes solution with historical volatility:\", BS_price_h)\n",
    "print(\"And Black-Scholes solution with sigma_i is of course:\", BS_price_i)"
   ]
  },
  {
   "cell_type": "code",
   "execution_count": 11,
   "metadata": {
    "collapsed": true
   },
   "outputs": [],
   "source": [
    "# prices_h is a list of prices calculated with historical volatility with different simulation steps\n",
    "# prices_i is a list of prices calculated wth implied volatlility with different simulation steps\n",
    "# computation_time is list of the computation times of the MC routine with different simulation steps, calculated once \n",
    "\n",
    "prices_h = []   \n",
    "prices_i = []\n",
    "computation_time = []\n",
    "\n",
    "# Simulations \n",
    "\n",
    "for i in range(0,1000000,5000):\n",
    "    \n",
    "    if i>0: \n",
    "        \n",
    "        # With historical volatility\n",
    "        start = time()                                       # Starting the timer \n",
    "        V_h, P = eMC_optionsBasic(i, r, sigma_h, T, S_0, K)  # Calculate price with MC\n",
    "        prices_h.append(V_h)                                 # Save price\n",
    "        computation_time.append(time()-start)                # Save Calculation time\n",
    "        \n",
    "        # With implied volatility\n",
    "        V_i, P = eMC_optionsBasic(i, r, sigma_i, T, S_0, K)\n",
    "        prices_i.append(V_i)     "
   ]
  },
  {
   "cell_type": "markdown",
   "metadata": {},
   "source": [
    "Next lets plot the simulation results and compare them to the calculated results and also plot how the simulated price converges to the calculated price:"
   ]
  },
  {
   "cell_type": "code",
   "execution_count": 12,
   "metadata": {},
   "outputs": [
    {
     "data": {
      "text/plain": [
       "<matplotlib.legend.Legend at 0x7f3bc6f3f978>"
      ]
     },
     "execution_count": 12,
     "metadata": {},
     "output_type": "execute_result"
    },
    {
     "data": {
      "text/plain": [
       "<matplotlib.figure.Figure at 0x7f3bc88a8ac8>"
      ]
     },
     "metadata": {},
     "output_type": "display_data"
    },
    {
     "data": {
      "image/png": "[encoded data removed]",
      "text/plain": [
       "<matplotlib.figure.Figure at 0x7f3bc88a8d68>"
      ]
     },
     "metadata": {},
     "output_type": "display_data"
    }
   ],
   "source": [
    "# Valirables to be used in plotting the comparison of simulated prices and calculated prices\n",
    "x = [i for i in range(5000, 1000000, 5000)]\n",
    "bsh = [BS_price_h for i in range(199)]\n",
    "bsi = [BS_price_i for i in range(199)]\n",
    "\n",
    "# The plot\n",
    "plt.figure(2)\n",
    "plt.figure(figsize=(14,4))\n",
    "plt.xlabel('Number of simulations')\n",
    "plt.ylabel('Price')\n",
    "plt.axis([0,1000000,3.6,3.9])\n",
    "plt.plot(x,bsi,'k',label='BS impld-vol')\n",
    "plt.plot(x,prices_i,'g', label='MC impld-vol')\n",
    "plt.plot(x,bsh,'r', label='BS hist-vol')\n",
    "plt.plot(x,prices_h,'b',label='MC hist-vol')\n",
    "plt.title('Simulated prices with calculated prices')\n",
    "plt.legend(loc='upper center', mode='expand', ncol=4)"
   ]
  },
  {
   "cell_type": "code",
   "execution_count": 46,
   "metadata": {},
   "outputs": [
    {
     "data": {
      "text/plain": [
       "<matplotlib.text.Text at 0x7f3bc6b2bf60>"
      ]
     },
     "execution_count": 46,
     "metadata": {},
     "output_type": "execute_result"
    },
    {
     "data": {
      "text/plain": [
       "<matplotlib.figure.Figure at 0x7f3bc6934048>"
      ]
     },
     "metadata": {},
     "output_type": "display_data"
    },
    {
     "data": {
      "image/png": "[encoded data removed]",
      "text/plain": [
       "<matplotlib.figure.Figure at 0x7f3bc6934160>"
      ]
     },
     "metadata": {},
     "output_type": "display_data"
    }
   ],
   "source": [
    "# Absolute value of the difference between calculated price and simulated prices\n",
    "diff = np.absolute(np.array(prices_i)-bsi)\n",
    "\n",
    "# Plot of the convergence of simulated price to calculated price\n",
    "plt.figure(3)\n",
    "plt.figure(figsize=(14,4))\n",
    "plt.xlabel('Number of simulaton steps')\n",
    "plt.ylabel('|MC_price-BS_price|')\n",
    "plt.plot(x,diff,'r', x, [0.01 for i in range(199)], 'k')\n",
    "plt.title('Convergence of the simulated price to the calculated price')"
   ]
  },
  {
   "cell_type": "code",
   "execution_count": 73,
   "metadata": {},
   "outputs": [
    {
     "data": {
      "text/plain": [
       "<matplotlib.text.Text at 0x7f3bc69eec88>"
      ]
     },
     "execution_count": 73,
     "metadata": {},
     "output_type": "execute_result"
    },
    {
     "data": {
      "text/plain": [
       "<matplotlib.figure.Figure at 0x7f3bc69bcb70>"
      ]
     },
     "metadata": {},
     "output_type": "display_data"
    },
    {
     "data": {
      "image/png": "[encoded data removed]",
      "text/plain": [
       "<matplotlib.figure.Figure at 0x7f3bc695c390>"
      ]
     },
     "metadata": {},
     "output_type": "display_data"
    }
   ],
   "source": [
    "# Plotting the simulation time vs simulation steps\n",
    "plt.figure(4)\n",
    "plt.figure(figsize=(14,4))\n",
    "plt.xlabel('Number of simulation steps')\n",
    "plt.ylabel('Computation time in seconds')\n",
    "plt.plot(x, computation_time, 'r')\n",
    "plt.title('Simulation time with different number of steps')"
   ]
  },
  {
   "cell_type": "markdown",
   "metadata": {},
   "source": [
    "Depending on which volatility is used, the simulated prices converge to the corresponding Black-Scholes solution. Around $600000$ simulation steps the simulated price stays within one cent from the realized price. The computation time seems to grow pretty much linearly with the simulation steps, being about two and a half seconds for $600000$ steps and over four seconds for $1000000$ steps. These simulation times are quite long. Furthermore if one wants to study the distribution of these means, considerable calculation time has to be expended:"
   ]
  },
  {
   "cell_type": "code",
   "execution_count": 77,
   "metadata": {},
   "outputs": [
    {
     "name": "stdout",
     "output_type": "stream",
     "text": [
      "25439.20212340355\n"
     ]
    }
   ],
   "source": [
    "statistics = np.zeros(10000)\n",
    "start = time()\n",
    "for i in range(10000):\n",
    "    V_i, P = eMC_optionsBasic(600000, r, sigma_i, T, S_0, K)\n",
    "    statistics[i] = V_i\n",
    "print(time()-start)"
   ]
  },
  {
   "cell_type": "markdown",
   "metadata": {},
   "source": [
    "Calculating the expected price $10000$ times takes over $7$ hours. Plotting the distribution of the simulated means gives of course the expected Gaussian distribution promised by the Central Limit Theorem with a standard deviation that is estimated closely by the standard error $\\sigma/\\sqrt{n}$ of a simulated mean: "
   ]
  },
  {
   "cell_type": "code",
   "execution_count": 108,
   "metadata": {},
   "outputs": [
    {
     "data": {
      "image/png": "[encoded data removed]",
      "text/plain": [
       "<matplotlib.figure.Figure at 0x7f3bc679e7b8>"
      ]
     },
     "metadata": {},
     "output_type": "display_data"
    }
   ],
   "source": [
    "plt.figure(5)\n",
    "a, b, c = plt.hist(statistics, 30, normed=True, histtype='stepfilled')"
   ]
  },
  {
   "cell_type": "code",
   "execution_count": 114,
   "metadata": {},
   "outputs": [
    {
     "name": "stdout",
     "output_type": "stream",
     "text": [
      "Standard deviation of the distribution of means: 0.00536540554528\n",
      "Standard error of a simulated price: 0.00537540061413\n"
     ]
    }
   ],
   "source": [
    "print('Standard deviation of the distribution of means:', np.std(statistics))\n",
    "print('Standard error of a simulated price:', np.std(P)/np.sqrt(600000))"
   ]
  },
  {
   "cell_type": "markdown",
   "metadata": {},
   "source": [
    "The wastefulness of crude Monte Carlo simulation in this case can be seen from the large standard deviation of the estimator and the amount of zeros in the vector $P$:"
   ]
  },
  {
   "cell_type": "code",
   "execution_count": 122,
   "metadata": {},
   "outputs": [
    {
     "name": "stdout",
     "output_type": "stream",
     "text": [
      "Standard deviation of the simulated prices: 4.16377088136\n",
      "Number of zero prices simulated: 200075 or 33.35 precent.\n"
     ]
    }
   ],
   "source": [
    "# Standard deviation of P\n",
    "P_std = np.std(P, ddof=1)\n",
    "# Number of zeors in P\n",
    "num_zeros = sum([1 if P[i]==0 else 0 for i in range(len(P))])\n",
    "\n",
    "print('Standard deviation of the simulated prices:', P_std,)\n",
    "print('Number of zero prices simulated:',num_zeros, 'or', round(num_zeros/600000, 4)*100, 'precent.')"
   ]
  },
  {
   "cell_type": "markdown",
   "metadata": {},
   "source": [
    "In order to try and reduce the variance, the method of control variated are explored, and with importance sampling the amount of 'misses' is hopefully lowered."
   ]
  },
  {
   "cell_type": "markdown",
   "metadata": {},
   "source": [
    "### Control variates and importance sampling"
   ]
  },
  {
   "cell_type": "markdown",
   "metadata": {
    "collapsed": true
   },
   "source": [
    "# Fortran code"
   ]
  },
  {
   "cell_type": "code",
   "execution_count": null,
   "metadata": {
    "collapsed": true
   },
   "outputs": [],
   "source": [
    "%load_ext fortranmagic"
   ]
  },
  {
   "cell_type": "code",
   "execution_count": null,
   "metadata": {
    "collapsed": true
   },
   "outputs": [],
   "source": [
    "%%fortran -vvv --f90flags=\"-fopenmp\" --extra=\"-lgomp\" --opt='-O3'\n",
    "module derivatives\n",
    "    implicit none\n",
    "    \n",
    "    integer, parameter :: rk=selected_real_kind(10,40)\n",
    "    integer, parameter :: ik=selected_int_kind(10)\n",
    "    \n",
    "    !-------------------------------------------------------------------------\n",
    "    integer,parameter,private :: defaultsd = 4357    ! Default seed       \n",
    "    integer,parameter,private :: N = 624, N1 = N + 1 ! Period parameters\n",
    "    integer,dimension(0:N-1),private :: mt      ! Array for the state vector\n",
    "    integer,private :: mti = N1\n",
    "    !-------------------------------------------------------------------------\n",
    "            \n",
    "contains\n",
    "    ! Subroutine for calculating prices for European and Asian call options\n",
    "    subroutine eurasian(n, j, d_t, S_0, mu, sigma, T, K, P_T)\n",
    "        use omp_lib\n",
    "        implicit none\n",
    "                \n",
    "        integer, parameter :: rk=selected_real_kind(10,40)\n",
    "        real(kind=rk), intent(in) :: S_0, mu, sigma, T, K\n",
    "        integer, intent(in) :: n, j, d_t\n",
    "        real(kind=rk), intent(out) :: P_T(j)        \n",
    "        \n",
    "        \n",
    "        real(kind=rk), allocatable :: P_i(:,:), P(:)\n",
    "        \n",
    "        integer :: thread_n, l, i\n",
    "        \n",
    "        l = n/4\n",
    "            \n",
    "        call omp_set_num_threads(4)\n",
    "        allocate(P_i(l,4), P(n))\n",
    "        \n",
    "        do i=1,j\n",
    "            ! Go parallel\n",
    "        \n",
    "            !$omp parallel private(thread_n) \n",
    "    \n",
    "            thread_n = omp_get_thread_num()\n",
    "    \n",
    "            if (thread_n==0) then\n",
    "                if (d_t==0) then\n",
    "                    call e_mc(l, S_0, mu, sigma, T, K, P_i(:,1), thread_n)\n",
    "                else\n",
    "                    call a_mc(d_t, l, S_0, mu, sigma, T, K, P, thread_n)\n",
    "                end if\n",
    "            end if\n",
    "    \n",
    "            if (thread_n==1) then\n",
    "                if (d_t==0) then\n",
    "                    call e_mc(l, S_0, mu, sigma, T, K, P_i(:,2), thread_n)\n",
    "                else\n",
    "                    call a_mc(d_t, l, S_0, mu, sigma, T, K, P, thread_n)\n",
    "                end if\n",
    "            end if\n",
    "    \n",
    "            if (thread_n==2) then\n",
    "                if (d_t==0) then\n",
    "                    call e_mc(l, S_0, mu, sigma, T, K, P_i(:,3), thread_n)\n",
    "                else\n",
    "                    call a_mc(d_t, l, S_0, mu, sigma, T, K, P, thread_n)\n",
    "                end if\n",
    "            end if\n",
    "    \n",
    "            if (thread_n==3) then\n",
    "                if (d_t==0) then\n",
    "                    call e_mc(l, S_0, mu, sigma, T, K, P_i(:,4), thread_n)\n",
    "                else\n",
    "                    call a_mc(d_t, l, S_0, mu, sigma, T, K, P, thread_n)\n",
    "                end if\n",
    "            end if   \n",
    "    \n",
    "            !$omp end parallel\n",
    "        \n",
    "            P(1:l) = P_i(:,1)\n",
    "            P(l+1:2*l) = P_i(:,2)\n",
    "            P(2*l+1:3*l) = P_i(:,3)\n",
    "            P(3*l+1:4*l) = P_i(:,4)\n",
    "        \n",
    "            P_T(i) = sum(P)/n\n",
    "        end do\n",
    "        \n",
    "    end subroutine eurasian\n",
    "    \n",
    "    ! Monte Carlo subroutine for European Call option\n",
    "    subroutine e_mc(l, S_0, mu, sigma, T, K, P, thread_n)\n",
    "        implicit none\n",
    "        \n",
    "        integer, parameter :: rk=selected_real_kind(10,40)\n",
    "        \n",
    "        real(kind=rk), intent(in) :: S_0, mu, sigma, T, K\n",
    "        integer, intent(in) :: l        \n",
    "        real(kind=rk), intent(inout) :: P(l)\n",
    "        integer, intent(in) :: thread_n\n",
    "            \n",
    "        real(kind=rk) :: Z, S, x_1, x_2, x_3\n",
    "        integer :: i\n",
    "    \n",
    "        x_1 = (mu-(0.5d0)*(sigma**2))*T\n",
    "        x_2 = sigma*sqrt(T)\n",
    "        x_3 = exp(-mu*T)\n",
    "    \n",
    "        call sgrnd(getseed(info=thread_n+1))\n",
    "    \n",
    "        do i=1,l\n",
    "            Z = gaussrnd()\n",
    "            S = S_0*exp(x_1+x_2*Z)\n",
    "            P(i) = x_3*max(S-K, 0.0d0)\n",
    "        end do\n",
    "        \n",
    "    end subroutine e_mc\n",
    "    \n",
    "    ! Monte Carlo subroutine for Asian Call option\n",
    "    subroutine a_mc(d_t, l, S_0, mu, sigma, T, K, P, thread_n)\n",
    "        implicit none\n",
    "        \n",
    "        integer, parameter :: rk=selected_real_kind(10,40)\n",
    "        \n",
    "        real(kind=rk), intent(in) :: S_0, mu, sigma, T, K\n",
    "        integer, intent(in) :: l        \n",
    "        real(kind=rk), intent(inout) :: P(l)\n",
    "        integer, intent(in) :: d_t, thread_n\n",
    "                \n",
    "        real(kind=rk) :: Z, S, S_i, S_bar, x_1, x_2, x_3\n",
    "        integer :: i, j\n",
    "        \n",
    "        x_1 = (mu-(0.5d0)*(sigma**2))*(T/d_t)\n",
    "        x_2 = sigma*sqrt(T/d_t)\n",
    "        x_3 = exp(-mu*T)\n",
    "        \n",
    "        call sgrnd(getseed(info=thread_n+1))\n",
    "        \n",
    "        do i=1,l\n",
    "            S = S_0\n",
    "            do j=1,d_t\n",
    "                Z = gaussrnd()\n",
    "                S_i = S*exp(x_1+x_2*Z)\n",
    "                S = S_i\n",
    "            end do\n",
    "            S_bar = S/d_t\n",
    "            P(i) = x_3*max(S_bar-K, 0.0d0)\n",
    "        end do\n",
    "    \n",
    "    end subroutine a_mc\n",
    "    \n",
    "!-----------------------------------------------------------------------------------------------------------------------!  \n",
    "!-----------------------------------------------------------------------------------------------------------------------!    \n",
    "    !-----------------------------------------!\n",
    "    ! Mersenne Twister random number generator!\n",
    "    !-----------------------------------------!\n",
    "    !---------------------------------------------------------------!\n",
    "    ! Initialization subroutine                                     !\n",
    "    !---------------------------------------------------------------!\n",
    "\n",
    "    subroutine sgrnd(seed)\n",
    "        implicit none\n",
    "        ! Setting initial seeds to mt[N] using the generator Line 25 of Table 1 in\n",
    "        ! [KNUTH 1981, The Art of Computer Programming Vol. 2 (2nd Ed.), pp102]\n",
    "        integer, intent(in) :: seed    \n",
    "        mt(0) = iand(seed,-1)\n",
    "        do mti=1,N-1\n",
    "           mt(mti) = iand(69069 * mt(mti-1),-1)\n",
    "        enddo\n",
    "        return\n",
    "    end subroutine sgrnd\n",
    "    \n",
    "    !---------------------------------------------------------------!\n",
    "    ! Random number generator: [0,1[                                !                                                              !\n",
    "    !---------------------------------------------------------------!\n",
    "\n",
    "    function grnd()\n",
    "        implicit none\n",
    "        \n",
    "        integer, parameter :: rk=selected_real_kind(10,40)\n",
    "        integer, parameter :: ik=selected_int_kind(10)\n",
    "                                    \n",
    "                                    \n",
    "        real(kind=rk) :: grnd    \n",
    "        ! Period parameters\n",
    "        integer, parameter :: M = 397, MATA  = -1727483681 ! constant vector a\n",
    "        integer, parameter :: LMASK =  2147483647          ! least significant r bits\n",
    "        integer, parameter :: UMASK = -LMASK - 1           ! most significant w-r bits\n",
    "        ! Tempering parameters\n",
    "        integer, parameter :: TMASKB= -1658038656, TMASKC= -272236544    \n",
    "        integer,save :: mag01(0:1)=[0,MATA] ! mag01(x) = x * MATA for x=0,1\n",
    "    \n",
    "        integer :: kk,y\n",
    "\n",
    "        if (mti>=N) then               ! generate N words at one time\n",
    "            if (mti==N+1) then          ! if sgrnd() has not been called,\n",
    "                call sgrnd( defaultsd ) ! a default initial seed is used\n",
    "            endif\n",
    "            do kk=0,N-M-1\n",
    "                y=ior(iand(mt(kk),UMASK),iand(mt(kk+1),LMASK))\n",
    "                mt(kk)=ieor(ieor(mt(kk+M),ishft(y,-1)),mag01(iand(y,1)))\n",
    "            enddo\n",
    "            do kk=N-M,N-2\n",
    "                y=ior(iand(mt(kk),UMASK),iand(mt(kk+1),LMASK))\n",
    "                mt(kk)=ieor(ieor(mt(kk+(M-N)),ishft(y,-1)),mag01(iand(y,1)))\n",
    "            enddo\n",
    "            y=ior(iand(mt(N-1),UMASK),iand(mt(0),LMASK))\n",
    "            mt(N-1)=ieor(ieor(mt(M-1),ishft(y,-1)),mag01(iand(y,1)))\n",
    "            mti = 0\n",
    "        endif\n",
    "    \n",
    "        y=mt(mti)\n",
    "        mti = mti + 1 \n",
    "        y=ieor(y,TSHFTU(y))\n",
    "        y=ieor(y,iand(TSHFTS(y),TMASKB))\n",
    "        y=ieor(y,iand(TSHFTT(y),TMASKC))\n",
    "        y=ieor(y,TSHFTL(y))\n",
    "    \n",
    "        if (y<0) then\n",
    "            grnd=(dble(y)+2.0d0**32)/(2.0d0**32-1.0d0)\n",
    "        else\n",
    "            grnd=dble(y)/(2.0d0**32-1.0d0)\n",
    "        endif\n",
    "    \n",
    "        return\n",
    "\n",
    "    contains\n",
    "\n",
    "        integer function TSHFTU(y)\n",
    "        integer,intent(in) :: y\n",
    "        TSHFTU=ishft(y,-11)\n",
    "        return\n",
    "        end function TSHFTU\n",
    "        integer function TSHFTS(y)\n",
    "        integer,intent(in) :: y\n",
    "        TSHFTS=ishft(y,7)\n",
    "        return\n",
    "        end function TSHFTS\n",
    "        integer function TSHFTT(y)\n",
    "        integer,intent(in) :: y\n",
    "        TSHFTT=ishft(y,15)\n",
    "        return\n",
    "        end function TSHFTT\n",
    "        integer function TSHFTL(y)\n",
    "        integer,intent(in) :: y\n",
    "        TSHFTL=ishft(y,-18)\n",
    "        return\n",
    "        end function TSHFTL\n",
    "\n",
    "    end function grnd\n",
    "                                    \n",
    "    !---------------------------------------------------------------!\n",
    "    ! Integer random number generator [l,j]:                        !\n",
    "    !---------------------------------------------------------------!\n",
    "\n",
    "    integer function igrnd(l,h)\n",
    "        implicit none\n",
    "        integer,intent(in) :: l,h\n",
    "        real(kind=rk) :: u,r\n",
    "        u=grnd()\n",
    "        r=(h-l+1)*u+l\n",
    "        igrnd=int(r)\n",
    "        return\n",
    "    end function igrnd\n",
    "\n",
    "    !---------------------------------------------------------------!\n",
    "    ! Random numbers with normal (0,1 Gaussian) distribution.       !\n",
    "    !---------------------------------------------------------------!  \n",
    "  \n",
    "    function gaussrnd()\n",
    "        implicit none\n",
    "        \n",
    "        integer, parameter :: rk=selected_real_kind(10,40)\n",
    "        integer, parameter :: ik=selected_int_kind(10)                       \n",
    "                                    \n",
    "        real(kind=rk) :: gaussrnd\n",
    "        real(kind=rk) :: fac,v1,v2,r\n",
    "        real(kind=rk), save :: gset\n",
    "        integer, save :: iset=0\n",
    "\n",
    "        if (iset==0) then ! Create a new RN\n",
    "            r=100.0\n",
    "            do while (r>1.0)\n",
    "                v1 = 2.0*grnd()-1.0\n",
    "                v2 = 2.0*grnd()-1.0\n",
    "                r = v1*v1+v2*v2\n",
    "            end do\n",
    "            fac = sqrt(-2.0*log(r)/r)\n",
    "            gset = v1*fac\n",
    "            gaussrnd = v2*fac\n",
    "            iset = 1\n",
    "        else ! Use the 2nd NR from the previous call\n",
    "            gaussrnd = gset\n",
    "            iset = 0\n",
    "        endif\n",
    "        return\n",
    "    end function gaussrnd\n",
    "                                    \n",
    "    !------------------------------------------------------!\n",
    "    !  Get the RNG seed from /dev/urandom device.          !\n",
    "    !------------------------------------------------------!\n",
    "    \n",
    "    integer function getseed(info,file)\n",
    "  \n",
    "        implicit none\n",
    "        integer,optional,intent(in) :: info,file\n",
    "        integer :: t(8),rn,is\n",
    "        integer,parameter :: LMASK=huge(rn) ! = 0111...111\n",
    "        integer,parameter :: LUN=676769\n",
    "        character (len=80) :: rdev0='/dev/urandom',rdev1='/dev/random',rdev\n",
    "        logical :: openok,readok,printinfo\n",
    "\n",
    "        openok=.true.\n",
    "        readok=.true.\n",
    "\n",
    "        if (present(file)) then\n",
    "            if (file==0) then\n",
    "                rdev=rdev0\n",
    "            else\n",
    "                rdev=rdev1\n",
    "            end if\n",
    "        else\n",
    "            rdev=rdev0\n",
    "        end if\n",
    "        if (present(info)) then\n",
    "            printinfo=(info/=0)\n",
    "        else\n",
    "            printinfo=.false.\n",
    "        end if\n",
    "\n",
    "        open(LUN,file=rdev,form='unformatted',access='stream',action='read',iostat=is)\n",
    "        if (is/=0) then\n",
    "            openok=.false.\n",
    "            print *,'open',is\n",
    "        else\n",
    "            read(LUN,iostat=is) rn\n",
    "            if (is/=0) then\n",
    "                readok=.false.\n",
    "            end if\n",
    "        end if\n",
    "        if (openok) close(LUN)\n",
    "\n",
    "        if (openok.and.readok) then\n",
    "            rn=iand(rn,LMASK) ! Make it positive, i.e. zero the leftmost bit\n",
    "            if (printinfo) write(6,'(a,a,a,i0)') 'Seed from ',trim(rdev),': ',rn\n",
    "        else\n",
    "            call date_and_time(values=t)\n",
    "            rn=t(7)+60*(t(6)+60*(t(5)+24*(t(3)-1+31*(t(2)-1+12*t(1)))))+t(8)\n",
    "            if (printinfo) write(6,'(a,i12)') 'Seed from time:',rn\n",
    "        end if\n",
    "\n",
    "    getseed=rn\n",
    "    return\n",
    "  end function getseed\n",
    "!------------------------------------------------------------------------------------------------------------------------!\n",
    "end module derivatives \n",
    "                \n",
    "        \n",
    "    \n",
    "    "
   ]
  }
 ],
 "metadata": {
  "kernelspec": {
   "display_name": "Python 2",
   "language": "python",
   "name": "python2"
  },
  "language_info": {
   "codemirror_mode": {
    "name": "ipython",
    "version": 3
   },
   "file_extension": ".py",
   "mimetype": "text/x-python",
   "name": "python",
   "nbconvert_exporter": "python",
   "pygments_lexer": "ipython3",
   "version": "3.5.2"
  }
 },
 "nbformat": 4,
 "nbformat_minor": 2
}
